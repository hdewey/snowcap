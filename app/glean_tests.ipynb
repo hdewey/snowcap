{
 "cells": [
  {
   "cell_type": "code",
   "execution_count": 1,
   "metadata": {},
   "outputs": [
    {
     "name": "stdout",
     "output_type": "stream",
     "text": [
      "Requirement already satisfied: pymongo in /Users/hdewey/anaconda3/lib/python3.10/site-packages (4.5.0)\n",
      "Requirement already satisfied: dnspython<3.0.0,>=1.16.0 in /Users/hdewey/anaconda3/lib/python3.10/site-packages (from pymongo) (2.4.2)\n"
     ]
    }
   ],
   "source": [
    "!pip install pymongo"
   ]
  },
  {
   "cell_type": "code",
   "execution_count": 10,
   "metadata": {},
   "outputs": [
    {
     "name": "stdout",
     "output_type": "stream",
     "text": [
      "MIGRATED: henry@gmail.com\n",
      "MIGRATED: christine@HorizonRealtyAustin.com\n",
      "MIGRATED: E1L5-6KZ3-W52I\n",
      "MIGRATED: klscudder@gmail.com\n",
      "MIGRATED: tanyasellsatx@gmail.com\n",
      "MIGRATED: lindasellsaustin@gmail.com\n",
      "MIGRATED: bdubs@gmail.com\n",
      "MIGRATED: EL17-0N61-APA5\n",
      "MIGRATED: J35T-NEUZ-NU6L\n",
      "MIGRATED: 9ZL9-0R1X-55PX\n",
      "MIGRATED: TRR1-37QJ-BUQU\n",
      "MIGRATED: 0W21-2J00-WA1L\n",
      "MIGRATED: 2YTZ-T7U8-MUSL\n",
      "MIGRATED: 0ERH-DKYY-O6Y7\n",
      "MIGRATED: BD9V-BJV8-GIBA\n",
      "MIGRATED: 80BY-OVUT-3X8K\n",
      "MIGRATED: CBIU-YVIQ-3N0I\n",
      "MIGRATED: fankelcie@gmail.com\n",
      "MIGRATED: FZH6-6BBE-TBID\n",
      "MIGRATED: D0G6-D5SY-RVVB\n",
      "MIGRATED: ZYJJ-Z5ZP-MKGX\n",
      "MIGRATED: M0M3-55MX-5HN0\n",
      "MIGRATED: MGU3-00VP-46GE\n",
      "MIGRATED: marykayatxrealtor@gmail.com\n",
      "Data migration completed.\n"
     ]
    }
   ],
   "source": [
    "import os\n",
    "\n",
    "from pymongo import MongoClient\n",
    "\n",
    "uri = \"PULL FROM .ENV\"\n",
    "\n",
    "client = MongoClient(uri)\n",
    "\n",
    "src_db = client[\"horizon_v2\"]\n",
    "src_collection = src_db[\"users\"]\n",
    "\n",
    "dest_db = client[\"horizon_v3\"]\n",
    "dest_collection = dest_db[\"users\"]\n",
    "\n",
    "for document in src_collection.find():\n",
    "  new_user = {\n",
    "    \"email\": document[\"email\"],\n",
    "    \"hashed_password\": document[\"hashed_password\"],\n",
    "    \"filled\": document[\"filled\"],\n",
    "  }\n",
    "  dest_collection.insert_one(new_user)\n",
    "  print(f\"MIGRATED: {new_user['email']}\")\n",
    "\n",
    "print(\"Data migration completed.\")"
   ]
  },
  {
   "cell_type": "code",
   "execution_count": 12,
   "metadata": {},
   "outputs": [
    {
     "name": "stdout",
     "output_type": "stream",
     "text": [
      "E1L5-6KZ3-W52I\n",
      "EL17-0N61-APA5\n",
      "J35T-NEUZ-NU6L\n",
      "9ZL9-0R1X-55PX\n",
      "TRR1-37QJ-BUQU\n",
      "0W21-2J00-WA1L\n",
      "2YTZ-T7U8-MUSL\n",
      "0ERH-DKYY-O6Y7\n",
      "BD9V-BJV8-GIBA\n",
      "80BY-OVUT-3X8K\n",
      "CBIU-YVIQ-3N0I\n",
      "FZH6-6BBE-TBID\n",
      "D0G6-D5SY-RVVB\n",
      "ZYJJ-Z5ZP-MKGX\n",
      "M0M3-55MX-5HN0\n",
      "MGU3-00VP-46GE\n"
     ]
    }
   ],
   "source": [
    "from pymongo import MongoClient\n",
    "\n",
    "uri = \"USE .ENV\"\n",
    "\n",
    "client = MongoClient(uri)\n",
    "\n",
    "src_db = client[\"horizon_v3\"]\n",
    "src_collection = src_db[\"users\"]\n",
    "\n",
    "for document in src_collection.find():\n",
    "  if (document[\"filled\"] is not True):\n",
    "    print(document[\"email\"])\n"
   ]
  }
 ],
 "metadata": {
  "kernelspec": {
   "display_name": "base",
   "language": "python",
   "name": "python3"
  },
  "language_info": {
   "codemirror_mode": {
    "name": "ipython",
    "version": 3
   },
   "file_extension": ".py",
   "mimetype": "text/x-python",
   "name": "python",
   "nbconvert_exporter": "python",
   "pygments_lexer": "ipython3",
   "version": "3.10.9"
  },
  "orig_nbformat": 4
 },
 "nbformat": 4,
 "nbformat_minor": 2
}
